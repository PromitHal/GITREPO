{
  "nbformat": 4,
  "nbformat_minor": 0,
  "metadata": {
    "colab": {
      "name": "IMDB_MOVIE_LSTM.ipynb",
      "provenance": [],
      "collapsed_sections": []
    },
    "kernelspec": {
      "name": "python3",
      "display_name": "Python 3"
    },
    "language_info": {
      "name": "python"
    }
  },
  "cells": [
    {
      "cell_type": "markdown",
      "source": [
        "IMDB reviews binary classification using **Long Short Memory Networks(LSTM)**"
      ],
      "metadata": {
        "id": "h5gxSQpBbIsp"
      }
    },
    {
      "cell_type": "code",
      "source": [
        "#Importing data\n",
        "import tensorflow.keras\n",
        "from tensorflow.keras.datasets import imdb"
      ],
      "metadata": {
        "id": "u06bfLQcbXOv"
      },
      "execution_count": 1,
      "outputs": []
    },
    {
      "cell_type": "markdown",
      "source": [
        "**Bag of Words**"
      ],
      "metadata": {
        "id": "OqucC0-tejBd"
      }
    },
    {
      "cell_type": "markdown",
      "source": [
        "![3.webp](data:image/webp;base64,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)"
      ],
      "metadata": {
        "id": "mrbIGfQIewBN"
      }
    },
    {
      "cell_type": "code",
      "source": [
        "#Manually coding up the Bag of words algorithm\n",
        "def vectorize(tokens):\n",
        "    ''' This function takes list of words in a sentence as input \n",
        "    and returns a vector of size of filtered_vocab.It puts 0 if the \n",
        "    word is not present in tokens and count of token if present.'''\n",
        "    vector=[]\n",
        "    for w in filtered_vocab:\n",
        "        vector.append(tokens.count(w))\n",
        "    return vector\n",
        "def unique(sequence):\n",
        "    '''This functions returns a list in which the order remains \n",
        "    same and no item repeats.Using the set() function does not \n",
        "    preserve the original ordering,so i didnt use that instead'''\n",
        "    seen = set()\n",
        "    return [x for x in sequence if not (x in seen or seen.add(x))]\n",
        "#create a list of stopwords.You can import stopwords from nltk too\n",
        "stopwords=[\"to\",\"is\",\"a\"]\n",
        "#list of special characters.You can use regular expressions too\n",
        "special_char=[\",\",\":\",\" \",\";\",\".\",\"?\"]\n",
        "#Write the sentences in the corpus,in our case, just two \n",
        "string1=\"My name is Promit. I am a Machine Learning Enthusiast\"\n",
        "string2=\"Artificial intelligence is dominating the market\"\n",
        "#convert them to lower case\n",
        "string1=string1.lower()\n",
        "string2=string2.lower()\n",
        "#split the sentences into tokens\n",
        "tokens1=string1.split()\n",
        "tokens2=string2.split()\n",
        "print(tokens1)\n",
        "print(tokens2)\n",
        "#create a vocabulary list\n",
        "vocab=unique(tokens1+tokens2)\n",
        "print(vocab)\n",
        "#filter the vocabulary list\n",
        "filtered_vocab=[]\n",
        "for w in vocab: \n",
        "    if w not in stopwords and w not in special_char: \n",
        "        filtered_vocab.append(w)\n",
        "print(filtered_vocab)\n",
        "#convert sentences into vectords\n",
        "vector1=vectorize(tokens1)\n",
        "print(vector1)\n",
        "vector2=vectorize(tokens2)\n",
        "print(vector2)"
      ],
      "metadata": {
        "colab": {
          "base_uri": "https://localhost:8080/"
        },
        "id": "yIepKVG6bfAq",
        "outputId": "3ded4f4a-9cf9-4631-ef90-349cb708170b"
      },
      "execution_count": 4,
      "outputs": [
        {
          "output_type": "stream",
          "name": "stdout",
          "text": [
            "['my', 'name', 'is', 'promit.', 'i', 'am', 'a', 'machine', 'learning', 'enthusiast']\n",
            "['artificial', 'intelligence', 'is', 'dominating', 'the', 'market']\n",
            "['my', 'name', 'is', 'promit.', 'i', 'am', 'a', 'machine', 'learning', 'enthusiast', 'artificial', 'intelligence', 'dominating', 'the', 'market']\n",
            "['my', 'name', 'promit.', 'i', 'am', 'machine', 'learning', 'enthusiast', 'artificial', 'intelligence', 'dominating', 'the', 'market']\n",
            "[1, 1, 1, 1, 1, 1, 1, 1, 0, 0, 0, 0, 0]\n",
            "[0, 0, 0, 0, 0, 0, 0, 0, 1, 1, 1, 1, 1]\n"
          ]
        }
      ]
    },
    {
      "cell_type": "code",
      "source": [
        "#We can use the Bag of words model as provided by Sklearn"
      ],
      "metadata": {
        "id": "ENsQJgV0fsSS"
      },
      "execution_count": null,
      "outputs": []
    },
    {
      "cell_type": "code",
      "source": [
        "import pandas as pd\n",
        "from sklearn.feature_extraction.text import CountVectorizer, TfidfVectorizer\n",
        "sentence_1=\"My name is Promit. I am a Machine Learning Enthusiast\"\n",
        "sentence_2=\"I am a student of Electronics and Communications Engineering\"\n",
        " \n",
        " \n",
        " \n",
        "CountVec = CountVectorizer(ngram_range=(1,1), # to use bigrams ngram_range=(2,2)\n",
        "                           stop_words='english')\n",
        "#transform\n",
        "Count_data = CountVec.fit_transform([sentence_1,sentence_2])\n",
        " \n",
        "#create dataframe\n",
        "cv_dataframe=pd.DataFrame(Count_data.toarray(),columns=CountVec.get_feature_names())\n",
        "print(cv_dataframe)"
      ],
      "metadata": {
        "colab": {
          "base_uri": "https://localhost:8080/"
        },
        "id": "N3xXuaJAfbBi",
        "outputId": "9eb4740a-173c-447c-d7cf-df5e22a74f78"
      },
      "execution_count": 5,
      "outputs": [
        {
          "output_type": "stream",
          "name": "stdout",
          "text": [
            "   communications  electronics  engineering  ...  machine  promit  student\n",
            "0               0            0            0  ...        1       1        0\n",
            "1               1            1            1  ...        0       0        1\n",
            "\n",
            "[2 rows x 8 columns]\n"
          ]
        },
        {
          "output_type": "stream",
          "name": "stderr",
          "text": [
            "/usr/local/lib/python3.7/dist-packages/sklearn/utils/deprecation.py:87: FutureWarning: Function get_feature_names is deprecated; get_feature_names is deprecated in 1.0 and will be removed in 1.2. Please use get_feature_names_out instead.\n",
            "  warnings.warn(msg, category=FutureWarning)\n"
          ]
        }
      ]
    },
    {
      "cell_type": "markdown",
      "source": [
        "Data Preprocessing"
      ],
      "metadata": {
        "id": "bRgjC0QOgFqE"
      }
    },
    {
      "cell_type": "code",
      "source": [
        "vocabulary_size = 5000\n",
        "(x_train, y_train), (x_test, y_test)=imdb.load_data(num_words=vocabulary_size)"
      ],
      "metadata": {
        "id": "_V2yXDUUgMcn",
        "colab": {
          "base_uri": "https://localhost:8080/"
        },
        "outputId": "a7c6e575-a10d-48a3-d443-6d4d2f87d93a"
      },
      "execution_count": 6,
      "outputs": [
        {
          "output_type": "stream",
          "name": "stdout",
          "text": [
            "Downloading data from https://storage.googleapis.com/tensorflow/tf-keras-datasets/imdb.npz\n",
            "17465344/17464789 [==============================] - 0s 0us/step\n",
            "17473536/17464789 [==============================] - 0s 0us/step\n"
          ]
        }
      ]
    },
    {
      "cell_type": "code",
      "source": [
        "x_train"
      ],
      "metadata": {
        "colab": {
          "base_uri": "https://localhost:8080/"
        },
        "id": "xQqXfESthnnu",
        "outputId": "b5dd0769-c88d-4365-84b5-cbe039ee3167"
      },
      "execution_count": 7,
      "outputs": [
        {
          "output_type": "execute_result",
          "data": {
            "text/plain": [
              "array([list([1, 14, 22, 16, 43, 530, 973, 1622, 1385, 65, 458, 4468, 66, 3941, 4, 173, 36, 256, 5, 25, 100, 43, 838, 112, 50, 670, 2, 9, 35, 480, 284, 5, 150, 4, 172, 112, 167, 2, 336, 385, 39, 4, 172, 4536, 1111, 17, 546, 38, 13, 447, 4, 192, 50, 16, 6, 147, 2025, 19, 14, 22, 4, 1920, 4613, 469, 4, 22, 71, 87, 12, 16, 43, 530, 38, 76, 15, 13, 1247, 4, 22, 17, 515, 17, 12, 16, 626, 18, 2, 5, 62, 386, 12, 8, 316, 8, 106, 5, 4, 2223, 2, 16, 480, 66, 3785, 33, 4, 130, 12, 16, 38, 619, 5, 25, 124, 51, 36, 135, 48, 25, 1415, 33, 6, 22, 12, 215, 28, 77, 52, 5, 14, 407, 16, 82, 2, 8, 4, 107, 117, 2, 15, 256, 4, 2, 7, 3766, 5, 723, 36, 71, 43, 530, 476, 26, 400, 317, 46, 7, 4, 2, 1029, 13, 104, 88, 4, 381, 15, 297, 98, 32, 2071, 56, 26, 141, 6, 194, 2, 18, 4, 226, 22, 21, 134, 476, 26, 480, 5, 144, 30, 2, 18, 51, 36, 28, 224, 92, 25, 104, 4, 226, 65, 16, 38, 1334, 88, 12, 16, 283, 5, 16, 4472, 113, 103, 32, 15, 16, 2, 19, 178, 32]),\n",
              "       list([1, 194, 1153, 194, 2, 78, 228, 5, 6, 1463, 4369, 2, 134, 26, 4, 715, 8, 118, 1634, 14, 394, 20, 13, 119, 954, 189, 102, 5, 207, 110, 3103, 21, 14, 69, 188, 8, 30, 23, 7, 4, 249, 126, 93, 4, 114, 9, 2300, 1523, 5, 647, 4, 116, 9, 35, 2, 4, 229, 9, 340, 1322, 4, 118, 9, 4, 130, 4901, 19, 4, 1002, 5, 89, 29, 952, 46, 37, 4, 455, 9, 45, 43, 38, 1543, 1905, 398, 4, 1649, 26, 2, 5, 163, 11, 3215, 2, 4, 1153, 9, 194, 775, 7, 2, 2, 349, 2637, 148, 605, 2, 2, 15, 123, 125, 68, 2, 2, 15, 349, 165, 4362, 98, 5, 4, 228, 9, 43, 2, 1157, 15, 299, 120, 5, 120, 174, 11, 220, 175, 136, 50, 9, 4373, 228, 2, 5, 2, 656, 245, 2350, 5, 4, 2, 131, 152, 491, 18, 2, 32, 2, 1212, 14, 9, 6, 371, 78, 22, 625, 64, 1382, 9, 8, 168, 145, 23, 4, 1690, 15, 16, 4, 1355, 5, 28, 6, 52, 154, 462, 33, 89, 78, 285, 16, 145, 95]),\n",
              "       list([1, 14, 47, 8, 30, 31, 7, 4, 249, 108, 7, 4, 2, 54, 61, 369, 13, 71, 149, 14, 22, 112, 4, 2401, 311, 12, 16, 3711, 33, 75, 43, 1829, 296, 4, 86, 320, 35, 534, 19, 263, 4821, 1301, 4, 1873, 33, 89, 78, 12, 66, 16, 4, 360, 7, 4, 58, 316, 334, 11, 4, 1716, 43, 645, 662, 8, 257, 85, 1200, 42, 1228, 2578, 83, 68, 3912, 15, 36, 165, 1539, 278, 36, 69, 2, 780, 8, 106, 14, 2, 1338, 18, 6, 22, 12, 215, 28, 610, 40, 6, 87, 326, 23, 2300, 21, 23, 22, 12, 272, 40, 57, 31, 11, 4, 22, 47, 6, 2307, 51, 9, 170, 23, 595, 116, 595, 1352, 13, 191, 79, 638, 89, 2, 14, 9, 8, 106, 607, 624, 35, 534, 6, 227, 7, 129, 113]),\n",
              "       ...,\n",
              "       list([1, 11, 6, 230, 245, 2, 9, 6, 1225, 446, 2, 45, 2174, 84, 2, 4007, 21, 4, 912, 84, 2, 325, 725, 134, 2, 1715, 84, 5, 36, 28, 57, 1099, 21, 8, 140, 8, 703, 5, 2, 84, 56, 18, 1644, 14, 9, 31, 7, 4, 2, 1209, 2295, 2, 1008, 18, 6, 20, 207, 110, 563, 12, 8, 2901, 2, 8, 97, 6, 20, 53, 4767, 74, 4, 460, 364, 1273, 29, 270, 11, 960, 108, 45, 40, 29, 2961, 395, 11, 6, 4065, 500, 7, 2, 89, 364, 70, 29, 140, 4, 64, 4780, 11, 4, 2678, 26, 178, 4, 529, 443, 2, 5, 27, 710, 117, 2, 2, 165, 47, 84, 37, 131, 818, 14, 595, 10, 10, 61, 1242, 1209, 10, 10, 288, 2260, 1702, 34, 2901, 2, 4, 65, 496, 4, 231, 7, 790, 5, 6, 320, 234, 2766, 234, 1119, 1574, 7, 496, 4, 139, 929, 2901, 2, 2, 5, 4241, 18, 4, 2, 2, 250, 11, 1818, 2, 4, 4217, 2, 747, 1115, 372, 1890, 1006, 541, 2, 7, 4, 59, 2, 4, 3586, 2]),\n",
              "       list([1, 1446, 2, 69, 72, 3305, 13, 610, 930, 8, 12, 582, 23, 5, 16, 484, 685, 54, 349, 11, 4120, 2959, 45, 58, 1466, 13, 197, 12, 16, 43, 23, 2, 5, 62, 30, 145, 402, 11, 4131, 51, 575, 32, 61, 369, 71, 66, 770, 12, 1054, 75, 100, 2198, 8, 4, 105, 37, 69, 147, 712, 75, 3543, 44, 257, 390, 5, 69, 263, 514, 105, 50, 286, 1814, 23, 4, 123, 13, 161, 40, 5, 421, 4, 116, 16, 897, 13, 2, 40, 319, 2, 112, 2, 11, 4803, 121, 25, 70, 3468, 4, 719, 3798, 13, 18, 31, 62, 40, 8, 2, 4, 2, 7, 14, 123, 5, 942, 25, 8, 721, 12, 145, 5, 202, 12, 160, 580, 202, 12, 6, 52, 58, 2, 92, 401, 728, 12, 39, 14, 251, 8, 15, 251, 5, 2, 12, 38, 84, 80, 124, 12, 9, 23]),\n",
              "       list([1, 17, 6, 194, 337, 7, 4, 204, 22, 45, 254, 8, 106, 14, 123, 4, 2, 270, 2, 5, 2, 2, 732, 2098, 101, 405, 39, 14, 1034, 4, 1310, 9, 115, 50, 305, 12, 47, 4, 168, 5, 235, 7, 38, 111, 699, 102, 7, 4, 4039, 2, 9, 24, 6, 78, 1099, 17, 2345, 2, 21, 27, 2, 2, 5, 2, 1603, 92, 1183, 4, 1310, 7, 4, 204, 42, 97, 90, 35, 221, 109, 29, 127, 27, 118, 8, 97, 12, 157, 21, 2, 2, 9, 6, 66, 78, 1099, 4, 631, 1191, 5, 2642, 272, 191, 1070, 6, 2, 8, 2197, 2, 2, 544, 5, 383, 1271, 848, 1468, 2, 497, 2, 8, 1597, 2, 2, 21, 60, 27, 239, 9, 43, 2, 209, 405, 10, 10, 12, 764, 40, 4, 248, 20, 12, 16, 5, 174, 1791, 72, 7, 51, 6, 1739, 22, 4, 204, 131, 9])],\n",
              "      dtype=object)"
            ]
          },
          "metadata": {},
          "execution_count": 7
        }
      ]
    },
    {
      "cell_type": "code",
      "source": [
        "y_train"
      ],
      "metadata": {
        "colab": {
          "base_uri": "https://localhost:8080/"
        },
        "id": "9omkD5WzhqVM",
        "outputId": "ca416643-13e9-4e70-93e9-014818648fee"
      },
      "execution_count": null,
      "outputs": [
        {
          "output_type": "execute_result",
          "data": {
            "text/plain": [
              "array([1, 0, 0, ..., 0, 1, 0])"
            ]
          },
          "metadata": {},
          "execution_count": 41
        }
      ]
    },
    {
      "cell_type": "markdown",
      "source": [
        "As we can see, each word has been integer encoded and  the postive labels encoded to 1, negative labels encoded to 0"
      ],
      "metadata": {
        "id": "kvRLQ3R5hKMj"
      }
    },
    {
      "cell_type": "code",
      "source": [
        "print('Loaded dataset with {} training samples, {} test samples'.format(len(x_train), len(x_test)))"
      ],
      "metadata": {
        "colab": {
          "base_uri": "https://localhost:8080/"
        },
        "id": "DG2J8lxyhxL8",
        "outputId": "9ab32929-2104-4eb8-d63f-a9487555e3ff"
      },
      "execution_count": null,
      "outputs": [
        {
          "output_type": "stream",
          "name": "stdout",
          "text": [
            "Loaded dataset with 25000 training samples, 25000 test samples\n"
          ]
        }
      ]
    },
    {
      "cell_type": "code",
      "source": [
        "#Looking at the reviews\n",
        "word2id = imdb.get_word_index()\n",
        "id2word = {i: word for word, i in word2id.items()}\n",
        "print('---review with words---')\n",
        "print([id2word.get(i, ' ') for i in x_test[20]])\n",
        "print('---label---')\n",
        "print(y_train[0])"
      ],
      "metadata": {
        "colab": {
          "base_uri": "https://localhost:8080/"
        },
        "id": "YU9QR21nh3Hz",
        "outputId": "7286d362-b75e-433b-c3bc-e84d0527f74e"
      },
      "execution_count": 8,
      "outputs": [
        {
          "output_type": "stream",
          "name": "stdout",
          "text": [
            "Downloading data from https://storage.googleapis.com/tensorflow/tf-keras-datasets/imdb_word_index.json\n",
            "1646592/1641221 [==============================] - 0s 0us/step\n",
            "1654784/1641221 [==============================] - 0s 0us/step\n",
            "---review with words---\n",
            "['the', 'as', 'you', 'with', 'by', 'for', 'was', 'one', \"everyone's\", 'in', 'can', 'but', 'good', 'my', 'was', 'with', 'appearance', 'in', 'same', 'that', 'there', 'will', 'dvd', 'and', 'of', \"you'll\", 'br', 'as', 'you', 'there', 'will', 'her', 'and', 'handle', 'to', 'and', 'anything', 'predictable', 'when', 'it', 'life', 'who', 'of', 'night', 'was', 'although', 'that', 'spend', 'for', 'her', 'plot', 'great', \"doesn't\", 'into', 'his', \"you're\", 'may', 'good', 'time', 'five', 'dialogue', 'not', 'de', 'what', 'his', 'of', 'on', 'into', 'could', 'actor', 'this', 'is', 'money', 'too', 'to', 'it', 'time', 'themselves', 'of', 'you', 'there', 'plot', 'obviously', 'to', 'films', 'and', 'american', 'however', 'as', 'by', 'being', 'and', 'is', 'say', 'directing', 'there', 'appropriate', 'or', 'of', 'reviewers', 'and', 'plot', 'and', 'to', 'lost', 'is', 'time', 'telling', 'member', 'watch', 'killings', 'good', 'my', 'this', 'chemistry', 'and', 'talking', 'is', 'and', 'this', 'of', 'batman', 'wall', 'to', \"i'm\", 'is', 'failed', \"i'd\", 'br', 'songs', 'it', 'scary', 'see', 'in', 'same', 'dvd', 'it', 'his', 'they', 'an', 'when', 'that', 'horror', 'and', 'talking', 'high', 'part', 'she', 'sort', 'of', 'tarzan', 'and', 'br', 'footage', 'to', 'fails', 'and', 'this', 'documentary', 'in', 'could', 'elements', \"don't\", 'five', 'is', 'o', 'apparently', 'it', 'to', 'boss', 'but', 'is', 'black', 'effort', 'movie', 'of', 'hot', 'it', 'this', 'turkey', 'sort', 'and', 'br', 'devoted', 'to', 'revelation', 'important', 'i', 'i', 'is', 'realized', 'she', 'in', 'and', 'to', 'telling', 'country', 'known', 'subtle', 'to', 'hand', 'as', 'you', 'into', 'cannot', 'have', 'and', 'was', 'although', 'of', 'down', 'br', 'as', 'on', 'in', 'at', 'stewart', 'to', 'it', 'his', 'is', 'on', 'in', 'at', 'mitchell', 'shot', 'through', 'note', 'that', 'hilarious']\n",
            "---label---\n",
            "1\n"
          ]
        }
      ]
    },
    {
      "cell_type": "code",
      "source": [
        "print('Maximum review length: {}'.format(\n",
        "len(max((x_train + x_test), key=len))))"
      ],
      "metadata": {
        "colab": {
          "base_uri": "https://localhost:8080/"
        },
        "id": "9xO_l4TGiYcQ",
        "outputId": "96ef6cf1-87a6-43ba-809d-c68402cf88e5"
      },
      "execution_count": 9,
      "outputs": [
        {
          "output_type": "stream",
          "name": "stdout",
          "text": [
            "Maximum review length: 2697\n"
          ]
        }
      ]
    },
    {
      "cell_type": "code",
      "source": [
        "print('Minimum review length: {}'.format(\n",
        "len(min((x_test + x_test), key=len))))"
      ],
      "metadata": {
        "colab": {
          "base_uri": "https://localhost:8080/"
        },
        "id": "Fc_-Vmkticfv",
        "outputId": "72dc235a-029a-4c0d-b892-6ed164d65e33"
      },
      "execution_count": 10,
      "outputs": [
        {
          "output_type": "stream",
          "name": "stdout",
          "text": [
            "Minimum review length: 14\n"
          ]
        }
      ]
    },
    {
      "cell_type": "code",
      "source": [
        "from keras.preprocessing import sequence\n",
        "max_words = 500\n",
        "x_train = sequence.pad_sequences(x_train, maxlen=max_words)\n",
        "x_test = sequence.pad_sequences(x_test, maxlen=max_words)"
      ],
      "metadata": {
        "id": "4F6SJ4GSiiCI"
      },
      "execution_count": 11,
      "outputs": []
    },
    {
      "cell_type": "code",
      "source": [
        "from tensorflow.keras import Sequential\n",
        "from tensorflow.keras.layers import Embedding, LSTM, Dense, Dropout\n",
        "embedding_size=40\n",
        "model=Sequential()\n",
        "model.add(Embedding(5000,embedding_size, input_length=max_words))\n",
        "model.add(LSTM(100))\n",
        "model.add(Dense(32, activation='relu'))\n",
        "model.add(Dense(1, activation='sigmoid'))\n",
        "print(model.summary())"
      ],
      "metadata": {
        "colab": {
          "base_uri": "https://localhost:8080/"
        },
        "id": "h72ZdY1Uikjb",
        "outputId": "784ae3c5-6a56-4d07-fb68-3ff3de78c9a1"
      },
      "execution_count": 12,
      "outputs": [
        {
          "output_type": "stream",
          "name": "stdout",
          "text": [
            "Model: \"sequential\"\n",
            "_________________________________________________________________\n",
            " Layer (type)                Output Shape              Param #   \n",
            "=================================================================\n",
            " embedding (Embedding)       (None, 500, 40)           200000    \n",
            "                                                                 \n",
            " lstm (LSTM)                 (None, 100)               56400     \n",
            "                                                                 \n",
            " dense (Dense)               (None, 32)                3232      \n",
            "                                                                 \n",
            " dense_1 (Dense)             (None, 1)                 33        \n",
            "                                                                 \n",
            "=================================================================\n",
            "Total params: 259,665\n",
            "Trainable params: 259,665\n",
            "Non-trainable params: 0\n",
            "_________________________________________________________________\n",
            "None\n"
          ]
        }
      ]
    },
    {
      "cell_type": "code",
      "source": [
        "model.compile(loss='binary_crossentropy', \n",
        "             optimizer='adam', \n",
        "             metrics=['accuracy'])"
      ],
      "metadata": {
        "id": "yb6oOPZgirPO"
      },
      "execution_count": 13,
      "outputs": []
    },
    {
      "cell_type": "code",
      "source": [
        "batch_size = 64\n",
        "num_epochs = 4\n",
        "X_valid, y_valid = x_train[:batch_size], y_train[:batch_size]\n",
        "X_train2, y_train2 = x_train[batch_size:], y_train[batch_size:]\n",
        "history=model.fit(X_train2, y_train2, validation_data=(X_valid, y_valid), batch_size=batch_size, epochs=num_epochs)"
      ],
      "metadata": {
        "colab": {
          "base_uri": "https://localhost:8080/"
        },
        "id": "jo1j8vlSitQd",
        "outputId": "16f27400-b75a-4d40-9173-b5933b67e20d"
      },
      "execution_count": 14,
      "outputs": [
        {
          "output_type": "stream",
          "name": "stdout",
          "text": [
            "Epoch 1/4\n",
            "390/390 [==============================] - 246s 616ms/step - loss: 0.4658 - accuracy: 0.7784 - val_loss: 0.3724 - val_accuracy: 0.8750\n",
            "Epoch 2/4\n",
            "390/390 [==============================] - 236s 605ms/step - loss: 0.2803 - accuracy: 0.8863 - val_loss: 0.2378 - val_accuracy: 0.9062\n",
            "Epoch 3/4\n",
            "390/390 [==============================] - 236s 606ms/step - loss: 0.2374 - accuracy: 0.9086 - val_loss: 0.2502 - val_accuracy: 0.9062\n",
            "Epoch 4/4\n",
            "390/390 [==============================] - 237s 607ms/step - loss: 0.2055 - accuracy: 0.9214 - val_loss: 0.5999 - val_accuracy: 0.7188\n"
          ]
        }
      ]
    },
    {
      "cell_type": "markdown",
      "source": [
        "**Evaluating Model Performace**"
      ],
      "metadata": {
        "id": "2nMZB4hWISQo"
      }
    },
    {
      "cell_type": "code",
      "source": [
        "predictions=model.predict(x_test)"
      ],
      "metadata": {
        "id": "dMJhxpgbi0gh"
      },
      "execution_count": 15,
      "outputs": []
    },
    {
      "cell_type": "code",
      "source": [
        "model.evaluate(x_test,y_test)"
      ],
      "metadata": {
        "colab": {
          "base_uri": "https://localhost:8080/"
        },
        "id": "NgUKwogDIat5",
        "outputId": "f40d6820-64cd-4cd3-b2ba-96b4b1a0ed65"
      },
      "execution_count": 16,
      "outputs": [
        {
          "output_type": "stream",
          "name": "stdout",
          "text": [
            "782/782 [==============================] - 113s 144ms/step - loss: 0.5601 - accuracy: 0.7278\n"
          ]
        },
        {
          "output_type": "execute_result",
          "data": {
            "text/plain": [
              "[0.5600553750991821, 0.727840006351471]"
            ]
          },
          "metadata": {},
          "execution_count": 16
        }
      ]
    },
    {
      "cell_type": "code",
      "source": [
        "import numpy as np\n",
        "rounded_predictions=[]\n",
        "for item in range(predictions.shape[0]):\n",
        "  rounded_predictions.append(np.argmax(predictions[item]))"
      ],
      "metadata": {
        "id": "XeKR6kC3Il4f"
      },
      "execution_count": 17,
      "outputs": []
    }
  ]
}